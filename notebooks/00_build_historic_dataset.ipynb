# Build historic laps
1. Edit path below to your local raw data folder.
2. Run this to create `data/laps.parquet` (gitignored).

``````
from src.data_load import load_historic_laps
import pandas as pd
PATH = r"D:/F1_raw"   # TODO: change to your local folder
df = load_historic_laps(PATH)
df.to_parquet("data/laps.parquet")  # requires 'pyarrow'
len(df)
``````
